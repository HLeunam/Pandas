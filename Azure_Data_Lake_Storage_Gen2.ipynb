{
  "nbformat": 4,
  "nbformat_minor": 0,
  "metadata": {
    "colab": {
      "provenance": [],
      "authorship_tag": "ABX9TyMsUIaRz1GCXwZz/1MV3SrO",
      "include_colab_link": true
    },
    "kernelspec": {
      "name": "python3",
      "display_name": "Python 3"
    },
    "language_info": {
      "name": "python"
    }
  },
  "cells": [
    {
      "cell_type": "markdown",
      "metadata": {
        "id": "view-in-github",
        "colab_type": "text"
      },
      "source": [
        "<a href=\"https://colab.research.google.com/github/HLeunam/Pandas/blob/main/Azure_Data_Lake_Storage_Gen2.ipynb\" target=\"_parent\"><img src=\"https://colab.research.google.com/assets/colab-badge.svg\" alt=\"Open In Colab\"/></a>"
      ]
    },
    {
      "cell_type": "code",
      "execution_count": null,
      "metadata": {
        "id": "gYxSkTm-C7L7"
      },
      "outputs": [],
      "source": [
        "#Instalar bibliotecas do Azure.\n",
        "!pip install azure-storage-file-datalake azure-identity"
      ]
    },
    {
      "cell_type": "code",
      "source": [
        "#Importar bibliotecas.\n",
        "import os\n",
        "from azure.storage.filedatalake import (\n",
        "      DataLakeServiceClient,\n",
        "      DataLakeDirectoryClient,\n",
        "      FileSystemClient\n",
        ")\n",
        "from azure.identity import DefaultAzureCredential"
      ],
      "metadata": {
        "id": "v6pU9f8tDHxW"
      },
      "execution_count": null,
      "outputs": []
    },
    {
      "cell_type": "code",
      "source": [
        "# Autorizar acesso e conectar às fontes de dados.\n",
        "def get_service_client_toke_credential(self, account_name) -> DataLakeServiceClient:\n",
        "    account_url = f\"https://{account_name}.dfs.core.windows.net\"\n",
        "    token_credential = DefaultAzureCredential()\n",
        "\n",
        "    service_client = DataLakeServiceClient(account_url, credential=token_credential)\n",
        "\n",
        "    return service_client"
      ],
      "metadata": {
        "id": "J6dR0CN9DWmY"
      },
      "execution_count": null,
      "outputs": []
    },
    {
      "cell_type": "code",
      "source": [
        "# Criar um coontainer.\n",
        "def create_file_system(self, service_client: DataLakeServiceClient, file_system_name: str) -> FileSystemClient:\n",
        "    file_system_client = service_client.create_file_system(file_system = file_system_name)\n",
        "\n",
        "    return file_system_client"
      ],
      "metadata": {
        "id": "ZYNB0DKEEmNX"
      },
      "execution_count": null,
      "outputs": []
    },
    {
      "cell_type": "code",
      "source": [
        "# Criar um diretório.\n",
        "def create_file_system(self, file_system_client: FileSystemClient, directory_name: str) -> DataLakeDirectoryClient:\n",
        "    directory_client = file_system_client.create_directory(directory_name)\n",
        "\n",
        "    return directory_client\n"
      ],
      "metadata": {
        "id": "1xenb0hYFd19"
      },
      "execution_count": null,
      "outputs": []
    },
    {
      "cell_type": "code",
      "source": [
        "# Renomear ou mover um diretório.\n",
        "def rename_directory(self, directory_client: DataLakeDirectoryClient, new_dir_name: str):\n",
        "    directory_client.rename_directory(\n",
        "        new_name=f\"{directory_client.file_system_name}/{new_dir_name}\")"
      ],
      "metadata": {
        "id": "jG-WqMrTHYFu"
      },
      "execution_count": null,
      "outputs": []
    },
    {
      "cell_type": "code",
      "source": [
        "# Carregar um arquivo em um diretório.\n",
        "def upload_file_to_directory (self, directory_client: DataLakeDirectoryClient, local_path: str, file_name: str):\n",
        "    file_client = directory_client.get_file_client(file_name)\n",
        "\n",
        "    with open(file=os.path.join(local_path, file_name), mode=\"rb\") as data:\n",
        "        file_client.upload_data(data, overwrite = True) # Comando para carregar e sobrescrever os dados existentes."
      ],
      "metadata": {
        "id": "PUFeXxDKH6ct"
      },
      "execution_count": null,
      "outputs": []
    },
    {
      "cell_type": "code",
      "source": [
        "# Anexar dados a um arquivo.\n",
        "def append_data_to_file(self, directory_client: DataLakeDirectoryClient, file_name: str):\n",
        "    file_client = directory_client.get_file_client(file_name)\n",
        "    file_size = file_client.get_file_properties().size\n",
        "\n",
        "    data = b\"Data to append to end of file\"\n",
        "    file_client.append_data(data, offset=file_size, length=len(data))\n",
        "\n",
        "    file_client.flush_data(file_size + len(data))"
      ],
      "metadata": {
        "id": "ZWPraJeeLd-j"
      },
      "execution_count": null,
      "outputs": []
    },
    {
      "cell_type": "code",
      "source": [
        "# Baixar de um diretório.\n",
        "def download_file_from_directory(self, directory_client: DataLakeDirectoryClient, local_path: str, file_name: str):\n",
        "    file_client = directory_client.get_file_client(file_name)\n",
        "\n",
        "    with open(file=os.path.join(local_path, file_name), mode='wb') as local_file:\n",
        "        download = file_client_download_file()\n",
        "        local_file.write(download.readall())\n",
        "        local_file.close()"
      ],
      "metadata": {
        "id": "uCKeHjAsMPgX"
      },
      "execution_count": null,
      "outputs": []
    },
    {
      "cell_type": "code",
      "source": [],
      "metadata": {
        "id": "pQB-qkYqXqrL"
      },
      "execution_count": null,
      "outputs": []
    }
  ]
}