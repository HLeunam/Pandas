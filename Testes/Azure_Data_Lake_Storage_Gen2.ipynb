{
  "cells": [
    {
      "cell_type": "markdown",
      "metadata": {
        "colab_type": "text",
        "id": "view-in-github"
      },
      "source": [
        "<a href=\"https://colab.research.google.com/github/HLeunam/Pandas/blob/main/Azure_Data_Lake_Storage_Gen2.ipynb\" target=\"_parent\"><img src=\"https://colab.research.google.com/assets/colab-badge.svg\" alt=\"Open In Colab\"/></a>"
      ]
    },
    {
      "cell_type": "code",
      "execution_count": null,
      "metadata": {
        "id": "gYxSkTm-C7L7"
      },
      "outputs": [],
      "source": [
        "#Instalar bibliotecas do Azure.\n",
        "!pip install azure-storage-file-datalake azure-identity"
      ]
    },
    {
      "cell_type": "code",
      "execution_count": null,
      "metadata": {
        "id": "v6pU9f8tDHxW"
      },
      "outputs": [],
      "source": [
        "#Importar bibliotecas.\n",
        "import os\n",
        "from azure.storage.filedatalake import (\n",
        "      DataLakeServiceClient,\n",
        "      DataLakeDirectoryClient,\n",
        "      FileSystemClient\n",
        ")\n",
        "from azure.identity import DefaultAzureCredential"
      ]
    },
    {
      "cell_type": "code",
      "execution_count": null,
      "metadata": {
        "id": "J6dR0CN9DWmY"
      },
      "outputs": [],
      "source": [
        "# Autorizar acesso e conectar às fontes de dados.\n",
        "def get_service_client_toke_credential(self, account_name) -> DataLakeServiceClient:\n",
        "    account_url = f\"https://{account_name}.dfs.core.windows.net\"\n",
        "    token_credential = DefaultAzureCredential()\n",
        "\n",
        "    service_client = DataLakeServiceClient(account_url, credential=token_credential)\n",
        "\n",
        "    return service_client"
      ]
    },
    {
      "cell_type": "code",
      "execution_count": null,
      "metadata": {
        "id": "ZYNB0DKEEmNX"
      },
      "outputs": [],
      "source": [
        "# Criar um coontainer.\n",
        "def create_file_system(self, service_client: DataLakeServiceClient, file_system_name: str) -> FileSystemClient:\n",
        "    file_system_client = service_client.create_file_system(file_system = file_system_name)\n",
        "\n",
        "    return file_system_client"
      ]
    },
    {
      "cell_type": "code",
      "execution_count": null,
      "metadata": {
        "id": "1xenb0hYFd19"
      },
      "outputs": [],
      "source": [
        "# Criar um diretório.\n",
        "def create_file_system(self, file_system_client: FileSystemClient, directory_name: str) -> DataLakeDirectoryClient:\n",
        "    directory_client = file_system_client.create_directory(directory_name)\n",
        "\n",
        "    return directory_client\n"
      ]
    },
    {
      "cell_type": "code",
      "execution_count": null,
      "metadata": {
        "id": "jG-WqMrTHYFu"
      },
      "outputs": [],
      "source": [
        "# Renomear ou mover um diretório.\n",
        "def rename_directory(self, directory_client: DataLakeDirectoryClient, new_dir_name: str):\n",
        "    directory_client.rename_directory(\n",
        "        new_name=f\"{directory_client.file_system_name}/{new_dir_name}\")"
      ]
    },
    {
      "cell_type": "code",
      "execution_count": null,
      "metadata": {
        "id": "PUFeXxDKH6ct"
      },
      "outputs": [],
      "source": [
        "# Carregar um arquivo em um diretório.\n",
        "def upload_file_to_directory (self, directory_client: DataLakeDirectoryClient, local_path: str, file_name: str):\n",
        "    file_client = directory_client.get_file_client(file_name)\n",
        "\n",
        "    with open(file=os.path.join(local_path, file_name), mode=\"rb\") as data:\n",
        "        file_client.upload_data(data, overwrite = True) # Comando para carregar e sobrescrever os dados existentes."
      ]
    },
    {
      "cell_type": "code",
      "execution_count": null,
      "metadata": {
        "id": "ZWPraJeeLd-j"
      },
      "outputs": [],
      "source": [
        "# Anexar dados a um arquivo.\n",
        "def append_data_to_file(self, directory_client: DataLakeDirectoryClient, file_name: str):\n",
        "    file_client = directory_client.get_file_client(file_name)\n",
        "    file_size = file_client.get_file_properties().size\n",
        "\n",
        "    data = b\"Data to append to end of file\"\n",
        "    file_client.append_data(data, offset=file_size, length=len(data))\n",
        "\n",
        "    file_client.flush_data(file_size + len(data))"
      ]
    },
    {
      "cell_type": "code",
      "execution_count": null,
      "metadata": {
        "id": "uCKeHjAsMPgX"
      },
      "outputs": [],
      "source": [
        "# Baixar de um diretório.\n",
        "def download_file_from_directory(self, directory_client: DataLakeDirectoryClient, local_path: str, file_name: str):\n",
        "    file_client = directory_client.get_file_client(file_name)\n",
        "\n",
        "    with open(file=os.path.join(local_path, file_name), mode='wb') as local_file:\n",
        "        download = file_client_download_file()\n",
        "        local_file.write(download.readall())\n",
        "        local_file.close()"
      ]
    }
  ],
  "metadata": {
    "colab": {
      "authorship_tag": "ABX9TyMsUIaRz1GCXwZz/1MV3SrO",
      "include_colab_link": true,
      "provenance": []
    },
    "kernelspec": {
      "display_name": "Python 3",
      "name": "python3"
    },
    "language_info": {
      "name": "python"
    }
  },
  "nbformat": 4,
  "nbformat_minor": 0
}
