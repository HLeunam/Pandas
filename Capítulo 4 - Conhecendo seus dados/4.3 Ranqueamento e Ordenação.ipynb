{
 "cells": [
  {
   "cell_type": "markdown",
   "metadata": {},
   "source": [
    "### 4.3 Ranqueamento e Ordenação"
   ]
  },
  {
   "cell_type": "code",
   "execution_count": 7,
   "metadata": {},
   "outputs": [
    {
     "name": "stdout",
     "output_type": "stream",
     "text": [
      "* * Resultado final ordenado pelo tempo:\n",
      "               nadador   nacionalidade  tempo\n",
      "raia                                         \n",
      "3        Anthony Ervin  Estados Unidos  21.40\n",
      "4     Florent Manaudou          França  21.41\n",
      "6        Nathan Adrian  Estados Unidos  21.49\n",
      "2       Benjamin Proud    Grã-Bretanha  21.68\n",
      "5       Andriy Hovorov         Ucrânia  21.74\n",
      "7         Bruno Fratus          Brasil  21.79\n",
      "8           Brad Tandy   África do Sul  21.79\n",
      "1       Simonas Billis        Lituânia  22.08\n",
      "\n",
      " * * posição de cada nadador (por raia):\n",
      "raia\n",
      "3    1.0\n",
      "4    2.0\n",
      "6    3.0\n",
      "2    4.0\n",
      "5    5.0\n",
      "7    6.0\n",
      "8    6.0\n",
      "1    8.0\n",
      "Name: tempo, dtype: float64\n"
     ]
    }
   ],
   "source": [
    "#P27 Métodos sort_values() e rank()\n",
    "import pandas as pd\n",
    "\n",
    "# 1 - Cria o DataFrame da prova de 50m.\n",
    "dados = {\n",
    "        \"nadador\" : [\"Simonas Billis\", \n",
    "                     \"Benjamin Proud\", \n",
    "                     \"Anthony Ervin\", \n",
    "                     \"Florent Manaudou\", \n",
    "                     \"Andriy Hovorov\", \n",
    "                     \"Nathan Adrian\", \n",
    "                     \"Bruno Fratus\", \n",
    "                     \"Brad Tandy\"],\n",
    "        \"nacionalidade\": [\"Lituânia\",\n",
    "                        \"Grã-Bretanha\",\n",
    "                        \"Estados Unidos\",\n",
    "                        \"França\", \"Ucrânia\",\n",
    "                        \"Estados Unidos\",\n",
    "                        \"Brasil\",\n",
    "                        \"África do Sul\"],\n",
    "        \"tempo\": [22.08, 21.68, 21.40, 21.41, 21.74, 21.49, 21.79, 21.79]\n",
    "        }\n",
    "\n",
    "raias = list(range(1,9))\n",
    "\n",
    "prova50m = pd.DataFrame(dados, index=raias)\n",
    "\n",
    "prova50m.index.name = 'raia'\n",
    "\n",
    "# 2 - Ordena pelo tempo de forma crescente.\n",
    "prova50m = prova50m.sort_values(by=\"tempo\")\n",
    "print(\"* * Resultado final ordenado pelo tempo:\")\n",
    "print(prova50m)\n",
    "\n",
    "# 3 - Gera os Rankings.\n",
    "resultado_por_raia = prova50m['tempo'].rank(method=\"min\")\n",
    "print(\"\\n * * posição de cada nadador (por raia):\")\n",
    "print(resultado_por_raia)\n"
   ]
  }
 ],
 "metadata": {
  "kernelspec": {
   "display_name": "Python 3",
   "language": "python",
   "name": "python3"
  },
  "language_info": {
   "codemirror_mode": {
    "name": "ipython",
    "version": 3
   },
   "file_extension": ".py",
   "mimetype": "text/x-python",
   "name": "python",
   "nbconvert_exporter": "python",
   "pygments_lexer": "ipython3",
   "version": "3.11.9"
  }
 },
 "nbformat": 4,
 "nbformat_minor": 2
}
