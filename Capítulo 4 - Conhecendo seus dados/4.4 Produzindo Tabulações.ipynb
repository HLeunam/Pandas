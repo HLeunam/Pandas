{
 "cells": [
  {
   "cell_type": "markdown",
   "metadata": {},
   "source": [
    "### 4.4 Produzindo Tabulações"
   ]
  },
  {
   "cell_type": "markdown",
   "metadata": {},
   "source": [
    "Esta seção apresenta duas diferentes técnicas para tabular dados a partir de DataFrames.\n",
    "\n",
    "Métodos:\n",
    "\n",
    "* Unique (): Retorna o domínio de um atributo do DataFrame, isto é, todas as categorias distintas que ele assume.\n",
    "\n",
    "* value_counts(): Gera uma tabela de frequências simples para o atributo."
   ]
  },
  {
   "cell_type": "code",
   "execution_count": 4,
   "metadata": {},
   "outputs": [
    {
     "name": "stdout",
     "output_type": "stream",
     "text": [
      "Domínio dos atributos categóricos:\n",
      "----------------------------------\n",
      "sexo: ['F' 'M']\n",
      "bairro: ['Belverde' 'Savassi' 'Anchieta' None]\n",
      "cartao: ['Master' 'Visa' 'Amex' 'Elo']\n",
      "\n",
      "\n",
      "Tabelas de frequência:\n",
      "----------------------\n",
      "\n",
      "-sexo\n",
      "sexo\n",
      "F    4\n",
      "M    2\n",
      "Name: count, dtype: int64\n",
      "\n",
      "2-bairro\n",
      "bairro\n",
      "Belverde    2\n",
      "Savassi     2\n",
      "Anchieta    1\n",
      "Name: count, dtype: int64\n",
      "\n",
      "n3-cartão\n",
      "cartao\n",
      "Master    2\n",
      "Visa      2\n",
      "Amex      1\n",
      "Elo       1\n",
      "Name: count, dtype: int64\n"
     ]
    }
   ],
   "source": [
    "#P28: Métodos unique() e value_counts().\n",
    "import pandas as pd\n",
    "\n",
    "# (1) - Cria o DataFrame.\n",
    "dados = {\"sexo\": [\"F\", \"M\", \"F\", \"F\", \"F\", \"M\"],\n",
    "        \"bairro\": [ \"Belverde\",\n",
    "                    \"Belverde\",\n",
    "                    \"Savassi\",\n",
    "                    \"Anchieta\",\n",
    "                    None,\n",
    "                    \"Savassi\"\n",
    "                    ],\n",
    "        \"valor\":[150.00, 35.00, 80.00, 250.00, 9.90, 25.00],\n",
    "        \"cartao\": [\"Master\", \"Visa\", \"Visa\", \"Amex\", \"Elo\", \"Master\"]}\n",
    "\n",
    "id_clientes = [1, 2, 3, 4, 5, 6]\n",
    "\n",
    "vendas = pd.DataFrame(dados, index=id_clientes)\n",
    "\n",
    "# (2) - Retorna o domínio dos atributos categóricos.\n",
    "print('Domínio dos atributos categóricos:')\n",
    "print('----------------------------------')\n",
    "print('sexo:', vendas['sexo'].unique())\n",
    "print('bairro:', vendas['bairro'].unique())\n",
    "print('cartao:', vendas['cartao'].unique())\n",
    "\n",
    "# (3) - Retorna as frequências dos valores de cada coluna.\n",
    "print(\"\\n\")\n",
    "print('Tabelas de frequência:')\n",
    "print('----------------------')\n",
    "print('\\n-sexo')\n",
    "print(vendas['sexo'].value_counts())\n",
    "print('\\n2-bairro')\n",
    "print(vendas['bairro'].value_counts())\n",
    "print('\\nn3-cartão')\n",
    "print(vendas['cartao'].value_counts())"
   ]
  }
 ],
 "metadata": {
  "kernelspec": {
   "display_name": "Python 3",
   "language": "python",
   "name": "python3"
  },
  "language_info": {
   "codemirror_mode": {
    "name": "ipython",
    "version": 3
   },
   "file_extension": ".py",
   "mimetype": "text/x-python",
   "name": "python",
   "nbconvert_exporter": "python",
   "pygments_lexer": "ipython3",
   "version": "3.11.9"
  }
 },
 "nbformat": 4,
 "nbformat_minor": 2
}
