{
 "cells": [
  {
   "cell_type": "markdown",
   "metadata": {},
   "source": [
    "### 4.4 Produzindo Tabulações"
   ]
  },
  {
   "cell_type": "markdown",
   "metadata": {},
   "source": [
    "Esta seção apresenta duas diferentes técnicas para tabular dados a partir de DataFrames.\n",
    "\n",
    "* Unique (): Retorna o domínio de um atributo do DataFrame, isto é, todas as categorias distintas que ele assume.\n",
    "\n",
    "* Value_counts(): Gera uma tabela de frequências simples para o atributo."
   ]
  },
  {
   "cell_type": "code",
   "execution_count": null,
   "metadata": {},
   "outputs": [],
   "source": [
    "#P28: Métodos unique() e value_counts().\n",
    "import pandas as pd\n",
    "\n",
    "# (1) - Cria o DataFrame.\n",
    "dados = {\n",
    "        'sexo': ['F', 'M', 'F', 'F', 'F', 'M'],\n",
    "        'bairro': ['Belverde', 'Belverde', 'Savassi', 'Anchieta', None, 'Savassi'],\n",
    "        'valor': [150.00, 35.00, 80.00, 250.00, 9.90, 25.00],\n",
    "        'cartao': ['Master', 'Visa', 'Visa', 'Amex', 'Elo', 'Master']\n",
    "        }\n",
    "\n",
    "id_clientes = [1, 2, 3, 4, 5, 6]\n",
    "vendas = pd.DataFrame(dados, index=id_clientes)\n",
    "\n",
    "# (2) - Retorna o domínio dos atributos categóricos.\n",
    "print('Domínio dos atributos categóricos:')\n",
    "print('----------------------------------')\n",
    "print('sexo:',vendas['sexo'].unique())\n",
    "print('bairro:',vendas['bairro'].unique())\n",
    "print('cartao', vendas['cartao'].unique())\n",
    "\n",
    "# (3) - Retorna as frequências dos valores de cada coluna.\n",
    "print('\\n')\n",
    "print('Tabelas de frequência:')\n",
    "print('----------------------')\n",
    "print('\\n-sexo')\n",
    "print(vendas['sexo'].value_counts())\n",
    "print('\\n2-bairro')\n",
    "print(vendas['bairro'].value_counts())\n",
    "print('\\n3-cartao')\n",
    "print(vendas['cartao'].value_counts())"
   ]
  },
  {
   "cell_type": "markdown",
   "metadata": {},
   "source": [
    "### 4.4.1 Agregações\n",
    "\n"
   ]
  },
  {
   "cell_type": "code",
   "execution_count": 10,
   "metadata": {},
   "outputs": [
    {
     "name": "stdout",
     "output_type": "stream",
     "text": [
      "- Quantidade de Clientes, por bairro:\n",
      " bairro\n",
      "Anchieta    1\n",
      "Belverde    2\n",
      "Savassi     2\n",
      "Name: valor, dtype: int64\n",
      "-----------------------------------------------------\n",
      "- Valor total das vendas, por bairro:\n",
      " bairro\n",
      "Anchieta    250.0\n",
      "Belverde    185.0\n",
      "Savassi     105.0\n",
      "Name: valor, dtype: float64\n",
      "-----------------------------------------------------\n",
      "- Valor médio das vendas, por bairro:\n",
      "  bairro\n",
      "Anchieta    250.0\n",
      "Belverde     92.5\n",
      "Savassi      52.5\n",
      "Name: valor, dtype: float64\n"
     ]
    }
   ],
   "source": [
    "#P29: Agregação com o método 'group_by()'.\n",
    "\n",
    "# (1) - Cria o DataFrame.\n",
    "dados = {\n",
    "        'sexo': ['F', 'M', 'F', 'F', 'F', 'M'],\n",
    "        'bairro': ['Belverde', 'Belverde', 'Savassi', 'Anchieta', None, 'Savassi'],\n",
    "        'valor': [150.00, 35.00, 80.00, 250.00, 9.90, 25.00],\n",
    "        'cartao': ['Master', 'Visa', 'Visa', 'Amex', 'Elo', 'Master']\n",
    "        }\n",
    "\n",
    "id_clientes = [1,2,3,4,5,6]\n",
    "vendas = pd.DataFrame(dados, index=id_clientes)\n",
    "\n",
    "# (2) - Gera uma variável \"grouped\".\n",
    "grupo_valor_bairro = vendas['valor'].groupby(vendas['bairro'])\n",
    "\n",
    "# (3) - Computa agregados a partir da variável gerada.\n",
    "print('- Quantidade de Clientes, por bairro:\\n', grupo_valor_bairro.count())\n",
    "print('-----------------------------------------------------')\n",
    "print('- Valor total das vendas, por bairro:\\n', grupo_valor_bairro.sum())\n",
    "print('-----------------------------------------------------')\n",
    "print('- Valor médio das vendas, por bairro:\\n ', grupo_valor_bairro.mean())"
   ]
  },
  {
   "cell_type": "code",
   "execution_count": 32,
   "metadata": {},
   "outputs": [
    {
     "data": {
      "text/html": [
       "<div>\n",
       "<style scoped>\n",
       "    .dataframe tbody tr th:only-of-type {\n",
       "        vertical-align: middle;\n",
       "    }\n",
       "\n",
       "    .dataframe tbody tr th {\n",
       "        vertical-align: top;\n",
       "    }\n",
       "\n",
       "    .dataframe thead th {\n",
       "        text-align: right;\n",
       "    }\n",
       "</style>\n",
       "<table border=\"1\" class=\"dataframe\">\n",
       "  <thead>\n",
       "    <tr style=\"text-align: right;\">\n",
       "      <th></th>\n",
       "      <th>sexo</th>\n",
       "      <th>bairro</th>\n",
       "      <th>valor</th>\n",
       "      <th>cartao</th>\n",
       "    </tr>\n",
       "  </thead>\n",
       "  <tbody>\n",
       "    <tr>\n",
       "      <th>0</th>\n",
       "      <td>F</td>\n",
       "      <td>Belverde</td>\n",
       "      <td>150.0</td>\n",
       "      <td>Master</td>\n",
       "    </tr>\n",
       "    <tr>\n",
       "      <th>1</th>\n",
       "      <td>M</td>\n",
       "      <td>Belverde</td>\n",
       "      <td>35.0</td>\n",
       "      <td>Visa</td>\n",
       "    </tr>\n",
       "    <tr>\n",
       "      <th>2</th>\n",
       "      <td>F</td>\n",
       "      <td>Savassi</td>\n",
       "      <td>80.0</td>\n",
       "      <td>Visa</td>\n",
       "    </tr>\n",
       "    <tr>\n",
       "      <th>3</th>\n",
       "      <td>F</td>\n",
       "      <td>Anchieta</td>\n",
       "      <td>250.0</td>\n",
       "      <td>Amex</td>\n",
       "    </tr>\n",
       "    <tr>\n",
       "      <th>4</th>\n",
       "      <td>F</td>\n",
       "      <td>None</td>\n",
       "      <td>9.9</td>\n",
       "      <td>Elo</td>\n",
       "    </tr>\n",
       "    <tr>\n",
       "      <th>5</th>\n",
       "      <td>M</td>\n",
       "      <td>Savassi</td>\n",
       "      <td>25.0</td>\n",
       "      <td>Master</td>\n",
       "    </tr>\n",
       "  </tbody>\n",
       "</table>\n",
       "</div>"
      ],
      "text/plain": [
       "  sexo    bairro  valor  cartao\n",
       "0    F  Belverde  150.0  Master\n",
       "1    M  Belverde   35.0    Visa\n",
       "2    F   Savassi   80.0    Visa\n",
       "3    F  Anchieta  250.0    Amex\n",
       "4    F      None    9.9     Elo\n",
       "5    M   Savassi   25.0  Master"
      ]
     },
     "execution_count": 32,
     "metadata": {},
     "output_type": "execute_result"
    }
   ],
   "source": [
    "Dados = pd.DataFrame(dados)\n",
    "Dados"
   ]
  }
 ],
 "metadata": {
  "kernelspec": {
   "display_name": "Python 3",
   "language": "python",
   "name": "python3"
  },
  "language_info": {
   "codemirror_mode": {
    "name": "ipython",
    "version": 3
   },
   "file_extension": ".py",
   "mimetype": "text/x-python",
   "name": "python",
   "nbconvert_exporter": "python",
   "pygments_lexer": "ipython3",
   "version": "3.11.9"
  }
 },
 "nbformat": 4,
 "nbformat_minor": 2
}
