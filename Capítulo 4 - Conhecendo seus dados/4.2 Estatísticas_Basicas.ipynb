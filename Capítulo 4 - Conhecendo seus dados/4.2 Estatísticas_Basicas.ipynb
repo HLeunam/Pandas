{
 "cells": [
  {
   "cell_type": "markdown",
   "metadata": {},
   "source": [
    "### 4.2 Estatísticas Básicas"
   ]
  },
  {
   "cell_type": "markdown",
   "metadata": {},
   "source": [
    "#### Medidas de tendência central"
   ]
  },
  {
   "cell_type": "markdown",
   "metadata": {},
   "source": [
    "Uma medidade de tendência central é aquela capaz de representar o que é médio ou típico do conjunto de dados. Exemplo: média, mediana e moda."
   ]
  },
  {
   "cell_type": "markdown",
   "metadata": {},
   "source": [
    "A médida trata-se da soma de cada valor do conjunto de dados, dívida pelo número de observações do conjunto.\n",
    "\n",
    "Fórmula: média = (4 + 1 + 3 + 2 + 4 + 4 + 2) / 7 = 2,86\n",
    "\n",
    "A mediana corresponde ao ponto do meio do nosso conjunto.\n",
    "\n",
    "Fórmula "
   ]
  },
  {
   "cell_type": "markdown",
   "metadata": {},
   "source": [
    "Os métodos mean(), median() e mode() são utilizados par calcular, respectivamente, os valores da média, mediana e moda."
   ]
  },
  {
   "cell_type": "code",
   "execution_count": 2,
   "metadata": {},
   "outputs": [
    {
     "name": "stdout",
     "output_type": "stream",
     "text": [
      "média: 2.857142857142857\n",
      "mediana: 3.0\n",
      "moda:  [4]\n"
     ]
    }
   ],
   "source": [
    "#P23 Estatísticas básicas: medidas de tendência central.\n",
    "import pandas as pd\n",
    "\n",
    "# Cria o DataFrame.\n",
    "dados = {\n",
    "            \"Jogador\": ['Marcelo', 'Pedro', 'Marcelo', 'Adriano', 'Mauro', 'Pedro', 'Marcelo'],\n",
    "            \"infracao\": ['Falta violenta', 'Reclamacao', 'Falta comum', 'Reclamacao','Falta comum', 'Falta violenta','Reclamacao'],\n",
    "            \"punicao\": [4, 1, 3, 2, 4, 4, 2]\n",
    "        }\n",
    "\n",
    "df = pd.DataFrame(dados)\n",
    "\n",
    "# Calcula as medidas de tendência central.\n",
    "print(\"média:\", df['punicao'].mean())\n",
    "print(\"mediana:\", df['punicao'].median())\n",
    "print(\"moda: \", df['punicao'].mode().values)"
   ]
  },
  {
   "cell_type": "markdown",
   "metadata": {},
   "source": [
    "#### Medidas de variabilidade"
   ]
  },
  {
   "cell_type": "markdown",
   "metadata": {},
   "source": [
    "Medidas de amplitude: amplitude, variância e desvio padrão.\n",
    "\n",
    "amplitude: A amplitude consiste na diferença entre o mais alto e o mais baixo valor de um conjunto.\n",
    "Desvio: consiste na distância de um valor arbitrário ao valor médio de um conjunto de dados."
   ]
  },
  {
   "cell_type": "code",
   "execution_count": 4,
   "metadata": {},
   "outputs": [
    {
     "name": "stdout",
     "output_type": "stream",
     "text": [
      "Juiz A:\n",
      "-------\n",
      "amplitude: 3\n",
      "variancia: 1.476190476190476\n",
      "Desvio padrão: 1.2149857925879117\n",
      "\n",
      "Juiz B:\n",
      "-------\n",
      "amplitude: 5\n",
      "variancia: 4.476190476190476\n",
      "Desvio padrão: 2.1157009420498154\n"
     ]
    }
   ],
   "source": [
    "import pandas as pd\n",
    "\n",
    "# Cria o DataFrame.\n",
    "dados = {\n",
    "        \"Jogador\": ['Marcelo', 'Pedro', 'Marcelo', 'Adriano', 'Mauro', 'Pedro', 'Marcelo'],\n",
    "        \"infracao\": ['Falta Violenta', 'Reclamacao', 'Falta Comum', 'Reclamacao', 'Falta Comum', 'Falta Violenta', 'Reclamacao'],\n",
    "        \"juiz_A\": [4, 1, 3, 2, 4, 4, 2],\n",
    "        \"juiz_B\": [2, 1, 4, 1, 1, 5, 6]\n",
    "        }\n",
    "\n",
    "df = pd.DataFrame(dados)\n",
    "\n",
    "# Calcula as medidas de variabilidade.\n",
    "print(\"Juiz A:\")\n",
    "print(\"-------\")\n",
    "print(\"amplitude:\", df['juiz_A'].max() - df['juiz_A'].min())\n",
    "print(\"variancia:\", df['juiz_A'].var())\n",
    "print(\"Desvio padrão:\", df['juiz_A'].std())\n",
    "\n",
    "print(\"\\nJuiz B:\")\n",
    "print(\"-------\")\n",
    "print(\"amplitude:\", df['juiz_B'].max() - df['juiz_B'].min())\n",
    "print(\"variancia:\", df['juiz_B'].var())\n",
    "print(\"Desvio padrão:\", df['juiz_B'].std())"
   ]
  },
  {
   "cell_type": "markdown",
   "metadata": {},
   "source": [
    "### Boxplot"
   ]
  },
  {
   "cell_type": "code",
   "execution_count": null,
   "metadata": {},
   "outputs": [],
   "source": [
    "homens = [4, 2, 7, 3, 1, 4, 2, 4, 8, 1]\n",
    "mulheres = [5, 4, 6, 5, 4, 2, 6, 6, 4, 3]"
   ]
  },
  {
   "cell_type": "code",
   "execution_count": 5,
   "metadata": {},
   "outputs": [
    {
     "data": {
      "image/png": "[encoded data removed]",
      "text/plain": [
       "<Figure size 640x480 with 1 Axes>"
      ]
     },
     "metadata": {},
     "output_type": "display_data"
    }
   ],
   "source": [
    "#P25: Boxplot - Comparação de distribuições.\n",
    "import pandas as pd\n",
    "\n",
    "df = pd.DataFrame({\n",
    "        \"homens\": [4, 2, 7, 3, 1, 4, 2, 4, 8, 1],\n",
    "        \"mulheres\": [5, 4, 6, 5, 4, 2, 6, 6, 4, 3]\n",
    "        })\n",
    "\n",
    "boxplot = df.boxplot(column=['homens', 'mulheres'], showmeans=True)"
   ]
  }
 ],
 "metadata": {
  "kernelspec": {
   "display_name": "Python 3",
   "language": "python",
   "name": "python3"
  },
  "language_info": {
   "codemirror_mode": {
    "name": "ipython",
    "version": 3
   },
   "file_extension": ".py",
   "mimetype": "text/x-python",
   "name": "python",
   "nbconvert_exporter": "python",
   "pygments_lexer": "ipython3",
   "version": "3.11.9"
  }
 },
 "nbformat": 4,
 "nbformat_minor": 2
}
