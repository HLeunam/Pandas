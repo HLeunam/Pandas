{
 "cells": [
  {
   "cell_type": "markdown",
   "metadata": {},
   "source": [
    "### 4.2 Estatística_Básica"
   ]
  },
  {
   "cell_type": "markdown",
   "metadata": {},
   "source": [
    "#### Medidas de tendência central."
   ]
  },
  {
   "cell_type": "markdown",
   "metadata": {},
   "source": [
    "Uma medida de tendência central é aquela capaz de representar o que é médio ou típico do conjunto de dados. Exemplo: média, mediana e moda."
   ]
  },
  {
   "cell_type": "markdown",
   "metadata": {},
   "source": [
    "A média trata-se da soma de cada valor do conjunto de dados, dívida pelo número de observações do conjunto.\n",
    "\n",
    "Fórmula: Média = (4 + 1 + 3 + 2 + 4 + 4 + 2) / 7 = 2,86\n",
    "\n",
    "A mediana corresponde ao ponto do meio do nosso conjunto."
   ]
  },
  {
   "cell_type": "markdown",
   "metadata": {},
   "source": [
    "Os métodos mean(), median() e mode() são utilizados para calcular, respectivamente, os valores da média, mediana e moda."
   ]
  },
  {
   "cell_type": "code",
   "execution_count": 1,
   "metadata": {},
   "outputs": [
    {
     "name": "stdout",
     "output_type": "stream",
     "text": [
      "Média: 2.857142857142857\n",
      "Mediana: 3.0\n",
      "Moda: [4]\n"
     ]
    }
   ],
   "source": [
    "#P23: Estatísticas básicas: Medidas de tendência central.\n",
    "import pandas as pd \n",
    "\n",
    "dados = {\n",
    "        'Jogador': ['Marcelo', 'Pedro', 'Marcelo', 'Adriano', 'Mauro', 'Pedro', 'Marcelo'],\n",
    "        'Infracao': ['Falta violenta', 'Reclamacao', 'Falta comum', 'Reclamacao', 'Falta comum', 'Falta violenta', 'Reclamacao'],\n",
    "        'Punicao': [4, 1, 3, 2, 4, 4, 2]\n",
    "}\n",
    "\n",
    "df = pd.DataFrame(dados)\n",
    "\n",
    "# Calcula as medidas de tendência central.\n",
    "print(\"Média:\", df['Punicao'].mean())\n",
    "print(\"Mediana:\", df['Punicao'].median())\n",
    "print(\"Moda:\", df['Punicao'].mode().values)"
   ]
  },
  {
   "cell_type": "markdown",
   "metadata": {},
   "source": [
    "#### Medidas de amplitude: Amplitude, variância e desvio padrão."
   ]
  },
  {
   "cell_type": "code",
   "execution_count": 8,
   "metadata": {},
   "outputs": [
    {
     "name": "stdout",
     "output_type": "stream",
     "text": [
      "Juiz_A:\n",
      "-------\n",
      "amplitude: 3\n",
      "variância: 1.476190476190476\n",
      "Desvio Padrão: 1.2149857925879117\n",
      "\n",
      "Juiz_B:\n",
      "-------\n",
      "amplitude: 5\n",
      "variância: 4.476190476190476\n",
      "Desvio Padrão: 2.1157009420498154\n"
     ]
    }
   ],
   "source": [
    "import pandas as pd\n",
    "\n",
    "# Cria o DataFrame.\n",
    "dados = {\n",
    "        'Jogador': ['Marcelo', 'Pedro', 'Marcelo', 'Adriano', 'Mauro', 'Pedro', 'Marcelo'],\n",
    "        'Infracao': ['Falta violenta', 'Reclamacao', 'Falta comum', 'Reclamacao', 'Falta comum', 'Falta violenta', 'Reclamacao'],\n",
    "        'Juiz_A': [4, 1, 3, 2, 4, 4, 2],\n",
    "        'Juiz_B': [2, 1, 4, 1, 1, 5, 6]\n",
    "}\n",
    "\n",
    "df = pd.DataFrame(dados)\n",
    "\n",
    "# Calcula as medidas de variabilidade.\n",
    "print(\"Juiz_A:\")\n",
    "print(\"-------\")\n",
    "print(\"amplitude:\", df['Juiz_A'].max() - df['Juiz_A'].min())\n",
    "print(\"variância:\", df['Juiz_A'].var())\n",
    "print(\"Desvio Padrão:\", df['Juiz_A'].std())\n",
    "\n",
    "print(\"\\nJuiz_B:\")\n",
    "print(\"-------\")\n",
    "print(\"amplitude:\", df['Juiz_B'].max() - df['Juiz_B'].min())\n",
    "print(\"variância:\", df['Juiz_B'].var())\n",
    "print(\"Desvio Padrão:\", df['Juiz_B'].std())"
   ]
  },
  {
   "cell_type": "markdown",
   "metadata": {},
   "source": [
    "#### Eixos"
   ]
  },
  {
   "cell_type": "code",
   "execution_count": 16,
   "metadata": {},
   "outputs": [
    {
     "name": "stdout",
     "output_type": "stream",
     "text": [
      "\n",
      " Notas Finais: \n",
      "-----------------\n",
      "     A1   A2   A3   A4\n",
      "P1  9.8  5.3  5.5  7.0\n",
      "P2  7.2  4.0  8.1  7.5\n",
      "P3  8.0  3.5  7.2  6.5\n",
      "\n",
      " Média de cada aluno:\n",
      "-----------------\n",
      "A1    8.333333\n",
      "A2    4.266667\n",
      "A3    6.933333\n",
      "A4    7.000000\n",
      "dtype: float64\n",
      "\n",
      " Maior nota cada aluno:\n",
      "-----------------\n",
      "A1    9.8\n",
      "A2    5.3\n",
      "A3    8.1\n",
      "A4    7.5\n",
      "dtype: float64\n",
      "\n",
      " Média de cada prova:\n",
      "-----------------\n",
      "P1    6.9\n",
      "P2    6.7\n",
      "P3    6.3\n",
      "dtype: float64\n",
      "\n",
      " Maior nota de cada prova:\n",
      "-----------------\n",
      "P1    9.8\n",
      "P2    8.1\n",
      "P3    8.0\n",
      "dtype: float64\n"
     ]
    }
   ],
   "source": [
    "#P26 Estatísticas sobre colunas e linhas de um DataFrame.\n",
    "import pandas as pd\n",
    "\n",
    "# Cria um DataFrame com as notas de 4 alunos e 3 provas.\n",
    "notas = pd.DataFrame({\"A1\": [9.8, 7.2, 8.0],\n",
    "                      \"A2\": [5.3, 4.0, 3.5],\n",
    "                      \"A3\": [5.5, 8.1, 7.2],\n",
    "                      \"A4\": [7.0, 7.5, 6.5]},\n",
    "                      index=['P1','P2','P3']) # Define os índices.\n",
    "\n",
    "# Imprime o DataFrame\n",
    "print(\"\\n Notas Finais: \")\n",
    "print(\"-----------------\")\n",
    "print(notas)\n",
    "\n",
    "# Computa e imprime as estatísticas por aluno e prova.\n",
    "print(\"\\n Média de cada aluno:\")\n",
    "print(\"-----------------\")\n",
    "print(notas.mean())\n",
    "\n",
    "print(\"\\n Maior nota cada aluno:\")\n",
    "print(\"-----------------\")\n",
    "print(notas.max())\n",
    "\n",
    "print(\"\\n Média de cada prova:\")\n",
    "print(\"-----------------\")\n",
    "print(notas.mean(axis=1))\n",
    "\n",
    "print(\"\\n Maior nota de cada prova:\")\n",
    "print(\"-----------------\")\n",
    "print(notas.max(axis=1))"
   ]
  },
  {
   "cell_type": "markdown",
   "metadata": {},
   "source": [
    "Em resumo: O padrão da pandas é computar estatísticas por colunas. Para computar por linhas, você deve utilizar o parâmetro axis = 1"
   ]
  }
 ],
 "metadata": {
  "kernelspec": {
   "display_name": "Python 3",
   "language": "python",
   "name": "python3"
  },
  "language_info": {
   "codemirror_mode": {
    "name": "ipython",
    "version": 3
   },
   "file_extension": ".py",
   "mimetype": "text/x-python",
   "name": "python",
   "nbconvert_exporter": "python",
   "pygments_lexer": "ipython3",
   "version": "3.12.5"
  }
 },
 "nbformat": 4,
 "nbformat_minor": 2
}
