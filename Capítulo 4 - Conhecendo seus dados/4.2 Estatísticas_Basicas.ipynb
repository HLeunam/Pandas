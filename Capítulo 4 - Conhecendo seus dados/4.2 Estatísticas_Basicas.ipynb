{
 "cells": [
  {
   "cell_type": "markdown",
   "metadata": {},
   "source": [
    "### 4.2 Estatística_Básica"
   ]
  },
  {
   "cell_type": "markdown",
   "metadata": {},
   "source": [
    "#### Medidas de tendência central."
   ]
  },
  {
   "cell_type": "markdown",
   "metadata": {},
   "source": [
    "Uma medida de tendência central é aquela capaz de representar o que é médio ou típico do conjunto de dados. Exemplo: média, mediana e moda."
   ]
  },
  {
   "cell_type": "markdown",
   "metadata": {},
   "source": [
    "A média trata-se da soma de cada valor do conjunto de dados, dívida pelo número de observações do conjunto.\n",
    "\n",
    "Fórmula: Média = (4 + 1 + 3 + 2 + 4 + 4 + 2) / 7 = 2,86\n",
    "\n",
    "A mediana corresponde ao ponto do meio do nosso conjunto."
   ]
  },
  {
   "cell_type": "markdown",
   "metadata": {},
   "source": [
    "Os métodos mean(), median() e mode() são utilizados para calcular, respectivamente, os valores da média, mediana e moda."
   ]
  },
  {
   "cell_type": "code",
   "execution_count": 1,
   "metadata": {},
   "outputs": [
    {
     "name": "stdout",
     "output_type": "stream",
     "text": [
      "Média: 2.857142857142857\n",
      "Mediana: 3.0\n",
      "Moda: [4]\n"
     ]
    }
   ],
   "source": [
    "#P23: Estatísticas básicas: Medidas de tendência central.\n",
    "import pandas as pd \n",
    "\n",
    "dados = {\n",
    "        'Jogador': ['Marcelo', 'Pedro', 'Marcelo', 'Adriano', 'Mauro', 'Pedro', 'Marcelo'],\n",
    "        'Infracao': ['Falta violenta', 'Reclamacao', 'Falta comum', 'Reclamacao', 'Falta comum', 'Falta violenta', 'Reclamacao'],\n",
    "        'Punicao': [4, 1, 3, 2, 4, 4, 2]\n",
    "}\n",
    "\n",
    "df = pd.DataFrame(dados)\n",
    "\n",
    "# Calcula as medidas de tendência central.\n",
    "print(\"Média:\", df['Punicao'].mean())\n",
    "print(\"Mediana:\", df['Punicao'].median())\n",
    "print(\"Moda:\", df['Punicao'].mode().values)"
   ]
  },
  {
   "cell_type": "markdown",
   "metadata": {},
   "source": [
    "#### Medidas de amplitude: Amplitude, variância e desvio padrão."
   ]
  },
  {
   "cell_type": "code",
   "execution_count": 8,
   "metadata": {},
   "outputs": [
    {
     "name": "stdout",
     "output_type": "stream",
     "text": [
      "Juiz_A:\n",
      "-------\n",
      "amplitude: 3\n",
      "variância: 1.476190476190476\n",
      "Desvio Padrão: 1.2149857925879117\n",
      "\n",
      "Juiz_B:\n",
      "-------\n",
      "amplitude: 5\n",
      "variância: 4.476190476190476\n",
      "Desvio Padrão: 2.1157009420498154\n"
     ]
    }
   ],
   "source": [
    "import pandas as pd\n",
    "\n",
    "# Cria o DataFrame.\n",
    "dados = {\n",
    "        'Jogador': ['Marcelo', 'Pedro', 'Marcelo', 'Adriano', 'Mauro', 'Pedro', 'Marcelo'],\n",
    "        'Infracao': ['Falta violenta', 'Reclamacao', 'Falta comum', 'Reclamacao', 'Falta comum', 'Falta violenta', 'Reclamacao'],\n",
    "        'Juiz_A': [4, 1, 3, 2, 4, 4, 2],\n",
    "        'Juiz_B': [2, 1, 4, 1, 1, 5, 6]\n",
    "}\n",
    "\n",
    "df = pd.DataFrame(dados)\n",
    "\n",
    "# Calcula as medidas de variabilidade.\n",
    "print(\"Juiz_A:\")\n",
    "print(\"-------\")\n",
    "print(\"amplitude:\", df['Juiz_A'].max() - df['Juiz_A'].min())\n",
    "print(\"variância:\", df['Juiz_A'].var())\n",
    "print(\"Desvio Padrão:\", df['Juiz_A'].std())\n",
    "\n",
    "print(\"\\nJuiz_B:\")\n",
    "print(\"-------\")\n",
    "print(\"amplitude:\", df['Juiz_B'].max() - df['Juiz_B'].min())\n",
    "print(\"variância:\", df['Juiz_B'].var())\n",
    "print(\"Desvio Padrão:\", df['Juiz_B'].std())"
   ]
  },
  {
   "cell_type": "markdown",
   "metadata": {},
   "source": []
  }
 ],
 "metadata": {
  "kernelspec": {
   "display_name": "Python 3",
   "language": "python",
   "name": "python3"
  },
  "language_info": {
   "codemirror_mode": {
    "name": "ipython",
    "version": 3
   },
   "file_extension": ".py",
   "mimetype": "text/x-python",
   "name": "python",
   "nbconvert_exporter": "python",
   "pygments_lexer": "ipython3",
   "version": "3.12.5"
  }
 },
 "nbformat": 4,
 "nbformat_minor": 2
}
