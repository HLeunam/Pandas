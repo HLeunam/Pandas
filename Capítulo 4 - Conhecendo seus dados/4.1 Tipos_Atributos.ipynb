{
 "cells": [
  {
   "cell_type": "markdown",
   "metadata": {},
   "source": [
    "### 4.1 Tipos de atributos."
   ]
  },
  {
   "cell_type": "code",
   "execution_count": 3,
   "metadata": {},
   "outputs": [
    {
     "name": "stdout",
     "output_type": "stream",
     "text": [
      "\n",
      " Colunas e seus dtypes:\n",
      "---------------------------\n",
      "renda           float64\n",
      "empregos          int64\n",
      "sexo             object\n",
      "escolaridade     object\n",
      "dtype: object\n"
     ]
    }
   ],
   "source": [
    "# P22: Tipos de atributos.\n",
    "import pandas as pd\n",
    "\n",
    "# Cria o DataFrame \"pme\"\n",
    "dados = {\n",
    "        'renda': [6.46, 1.50, 0.00, 2.57, 9.90, 6.22],\n",
    "        'empregos': [1, 1, 0, 1, 2, 3],\n",
    "        'sexo': [\"F\", \"M\", \"F\", \"M\", \"M\", \"F\"],\n",
    "        'escolaridade': ['pos-graduacao', 'fundamental', 'medio', 'medio', 'superior', 'medio']\n",
    "        }\n",
    "\n",
    "pme = pd.DataFrame(dados)\n",
    "\n",
    "# Imprime o nome de cada atributo e o seu dtype.\n",
    "print(\"\\n Colunas e seus dtypes:\")\n",
    "print(\"---------------------------\")\n",
    "print(pme.dtypes)"
   ]
  }
 ],
 "metadata": {
  "kernelspec": {
   "display_name": "Python 3",
   "language": "python",
   "name": "python3"
  },
  "language_info": {
   "codemirror_mode": {
    "name": "ipython",
    "version": 3
   },
   "file_extension": ".py",
   "mimetype": "text/x-python",
   "name": "python",
   "nbconvert_exporter": "python",
   "pygments_lexer": "ipython3",
   "version": "3.12.5"
  }
 },
 "nbformat": 4,
 "nbformat_minor": 2
}
