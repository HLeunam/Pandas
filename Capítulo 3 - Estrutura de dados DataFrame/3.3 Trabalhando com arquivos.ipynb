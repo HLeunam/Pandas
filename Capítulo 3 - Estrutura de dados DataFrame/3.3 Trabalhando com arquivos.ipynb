{
 "cells": [
  {
   "cell_type": "markdown",
   "metadata": {},
   "source": [
    "### 3.3 Trabalhando com arquivos."
   ]
  },
  {
   "cell_type": "code",
   "execution_count": null,
   "metadata": {},
   "outputs": [],
   "source": [
    "#P15: Importação de CSV padrão para um DataFrame.\n",
    "import pandas as pd\n",
    "\n",
    "paises = pd.read_csv(r\"C:\\Users\\henri\\OneDrive\\Pessoal\\Anotações\\GitHub\\Pandas\\Bases\\paises.csv\", index_col=\"sigla\")\n",
    "print(paises)"
   ]
  },
  {
   "cell_type": "code",
   "execution_count": null,
   "metadata": {},
   "outputs": [],
   "source": [
    "#P16: Importação de CSV sem cabeçalho e com \";\" como separador.\n",
    "notas = pd.read_csv(r\"C:\\Users\\henri\\OneDrive\\Pessoal\\Anotações\\GitHub\\Pandas\\Bases\\notas.csv\", sep=';', names=['matricula', 'nota1', 'nota2'])\n",
    "print(notas)"
   ]
  },
  {
   "cell_type": "code",
   "execution_count": null,
   "metadata": {},
   "outputs": [],
   "source": [
    "#P17: Importação de arquivo com série temporal.\n",
    "\n",
    "# Importa o arquivo para uma Series.\n",
    "serie_gols = pd.read_csv(r\"C:\\Users\\henri\\OneDrive\\Pessoal\\Anotações\\GitHub\\Pandas\\Bases\\gols.txt\", sep=\" \", index_col=0)\n",
    "\n",
    "# Converte o tipo do índice para datetime e imprime a série.\n",
    "serie_gols.index = pd.to_datetime(serie_gols.index, format='%d/%m/%Y')\n",
    "\n",
    "print(serie_gols)"
   ]
  },
  {
   "cell_type": "code",
   "execution_count": null,
   "metadata": {},
   "outputs": [],
   "source": [
    "#P18: Importação de planilha Excel.\n",
    "cidades = pd.read_excel(r\"C:\\Users\\henri\\OneDrive\\Pessoal\\Anotações\\GitHub\\Pandas\\Bases\\capitais.xlsx\")\n",
    "print(cidades)"
   ]
  },
  {
   "cell_type": "code",
   "execution_count": null,
   "metadata": {},
   "outputs": [],
   "source": [
    "#P19: Importação de arquivo JSON.\n",
    "import pandas as pd\n",
    "import json\n",
    "\n",
    "#(1) - Importa o arquivo JSON para memória.\n",
    "with open(r\"C:\\Users\\henri\\OneDrive\\Pessoal\\Anotações\\GitHub\\Pandas\\Bases\\notas.json\") as f:\n",
    "    j_notas = json.load(f)\n",
    "\n",
    "# (2) - Transfere as informações para um DataFrame.\n",
    "notas = pd.DataFrame(j_notas, columns=['matricula','notas'])\n",
    "print(notas)"
   ]
  },
  {
   "cell_type": "code",
   "execution_count": 21,
   "metadata": {},
   "outputs": [],
   "source": [
    "#P20: Salva o conteúdo de um DataFrame em um CSV.\n",
    "\n",
    "# Cria o DataFrame.\n",
    "dados = {'Codigo': [1001, 1002, 1003, 1004, 1005],\n",
    "         'nome': ['Leite', 'Café', 'Biscoito', 'Chá', 'Torradas']\n",
    "        }\n",
    "\n",
    "produtos = pd.DataFrame(dados)\n",
    "\n",
    "# Salva o seu conteúdo para um arquivo em formato CSV.\n",
    "produtos.to_csv(r\"C:\\Users\\henri\\OneDrive\\Pessoal\\Anotações\\GitHub\\Pandas\\Bases\\produtos.csv\", sep=\"\\t\", index=False)\n",
    "\n",
    "# Salva o seu conteúdo para um arquivo em formato XLSX.\n",
    "produtos.to_excel(r\"C:\\Users\\henri\\OneDrive\\Pessoal\\Anotações\\GitHub\\Pandas\\Bases\\produtos.xlsx\")\n"
   ]
  }
 ],
 "metadata": {
  "kernelspec": {
   "display_name": "Python 3",
   "language": "python",
   "name": "python3"
  },
  "language_info": {
   "codemirror_mode": {
    "name": "ipython",
    "version": 3
   },
   "file_extension": ".py",
   "mimetype": "text/x-python",
   "name": "python",
   "nbconvert_exporter": "python",
   "pygments_lexer": "ipython3",
   "version": "3.11.9"
  }
 },
 "nbformat": 4,
 "nbformat_minor": 2
}
