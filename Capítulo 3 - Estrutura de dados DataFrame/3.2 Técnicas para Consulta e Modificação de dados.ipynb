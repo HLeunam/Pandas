{
 "cells": [
  {
   "cell_type": "markdown",
   "metadata": {},
   "source": [
    "## Capítulo 3 - A estrutura de dados DataFrame."
   ]
  },
  {
   "cell_type": "markdown",
   "metadata": {},
   "source": [
    "### Busca"
   ]
  },
  {
   "cell_type": "code",
   "execution_count": 30,
   "metadata": {},
   "outputs": [
    {
     "name": "stdout",
     "output_type": "stream",
     "text": [
      "         nome continente  extensao  corVerde\n",
      "AR  Argentina    America      2780         0\n",
      "BR     Brasil    America     85111         1\n",
      "FR     Franca     Europa       644         0\n",
      "IT     Italia     Europa       301         1\n",
      "Existe rotulo 'BR'? -> True\n",
      "Existe rotulo 'US'? -> False\n",
      "------------------------------\n",
      "Existe o rotulo 'corVerde?' ->  True\n",
      "Existe o rotulo 'corAzul?' ->  False\n"
     ]
    }
   ],
   "source": [
    "#P13: Busca em DataFrames.\n",
    "import pandas as pd\n",
    "\n",
    "# Cria o DataFrame.\n",
    "dados = {\n",
    "        'nome': ['Argentina','Brasil','Franca','Italia'],\n",
    "        'continente': ['America','America','Europa','Europa'],\n",
    "        'extensao': [2780, 85111, 644, 301],\n",
    "        'corVerde': [0,1,0,1]\n",
    "        }\n",
    "\n",
    "siglas = ['AR','BR','FR', 'IT']\n",
    "paises = pd.DataFrame(dados, index=siglas)\n",
    "print(paises)\n",
    "\n",
    "# Testa se um dado rótulo de linha existe.\n",
    "tem_BR = 'BR' in paises.index\n",
    "tem_US = 'US' in paises.index\n",
    "print(\"Existe rotulo 'BR'? ->\", tem_BR)\n",
    "print(\"Existe rotulo 'US'? ->\", tem_US)\n",
    "print('------------------------------')\n",
    "\n",
    "# Testa se um dado rótulo de coluna existe.\n",
    "tem_corVerde = 'corVerde' in paises.columns\n",
    "tem_corAzul = 'corAzul' in paises.columns\n",
    "print(\"Existe o rotulo 'corVerde?' -> \", tem_corVerde)\n",
    "print(\"Existe o rotulo 'corAzul?' -> \", tem_corAzul)"
   ]
  },
  {
   "cell_type": "markdown",
   "metadata": {},
   "source": [
    "### Modificação"
   ]
  },
  {
   "cell_type": "code",
   "execution_count": 26,
   "metadata": {},
   "outputs": [
    {
     "name": "stdout",
     "output_type": "stream",
     "text": [
      "           nome continente  extensao  corVerde\n",
      "AR    Argentina    America      2780         0\n",
      "BR       Brasil    America     85111         1\n",
      "FR       Franca     Europa       644         0\n",
      "IT       Italia     Europa       301         1\n",
      "UK  Reino Unido     Europa       244         0\n"
     ]
    }
   ],
   "source": [
    "#P14: Modificação de DataFrame.\n",
    "import pandas as pd\n",
    "\n",
    "# Cria o DataFrame.\n",
    "dados = {\n",
    "        'nome': ['Argentina','Brasil','Franca','Italia','Reino Unido'],\n",
    "        'continente': ['America','America','Europa','Europa','Europa'],\n",
    "        'extensao': [2780, 85111, 644, 301, 244],\n",
    "        'corVerde': [0,1,0,1,0]\n",
    "        }\n",
    "\n",
    "siglas = ['AR','BR','FR', 'IT', 'UK']\n",
    "\n",
    "paises = pd.DataFrame(dados, index=siglas)\n",
    "print(paises)\n"
   ]
  },
  {
   "cell_type": "code",
   "execution_count": 27,
   "metadata": {},
   "outputs": [
    {
     "name": "stdout",
     "output_type": "stream",
     "text": [
      "           nome continente  extensao  corVerde\n",
      "AR    Argentina    America      2780         0\n",
      "BR       Brasil    America     85111         1\n",
      "FR       Franca     Europa       644         0\n",
      "IT       Italia     Europa       301         1\n",
      "UK  Reino Unido     Europa       244         0\n",
      "JP        Japão       Ásia       372         0\n"
     ]
    }
   ],
   "source": [
    "# Insere o país Japão (JP).\n",
    "paises.loc['JP'] = {\n",
    "                    'nome':'Japão',\n",
    "                    'continente': 'Ásia',\n",
    "                    'extensao': 372,\n",
    "                    'corVerde': 0\n",
    "                    }\n",
    "print(paises)"
   ]
  },
  {
   "cell_type": "code",
   "execution_count": 28,
   "metadata": {},
   "outputs": [
    {
     "name": "stdout",
     "output_type": "stream",
     "text": [
      "           nome continente  extensao  corVerde\n",
      "AR    Argentina    America      2780         0\n",
      "BR       Brasil    America      8512         1\n",
      "FR       Franca     Europa       644         0\n",
      "IT       Italia     Europa       301         1\n",
      "UK  Reino Unido     Europa       244         0\n",
      "JP        Japão       Ásia       372         0\n"
     ]
    }
   ],
   "source": [
    "# altera a extensão do Brasil.\n",
    "paises.at['BR','extensao'] = 8512\n",
    "print(paises)"
   ]
  },
  {
   "cell_type": "code",
   "execution_count": 29,
   "metadata": {},
   "outputs": [
    {
     "name": "stdout",
     "output_type": "stream",
     "text": [
      "DataFrame após todas alterações:\n",
      "\n",
      "      nome continente  extensao  corVerde\n",
      "BR  Brasil    America      8512         1\n",
      "FR  Franca     Europa       644         0\n",
      "IT  Italia     Europa       301         1\n",
      "JP   Japão       Ásia       372         0\n"
     ]
    }
   ],
   "source": [
    "# Remove a Argentina e o Reino Unido.\n",
    "paises = paises.drop(['AR','UK'])\n",
    "print('DataFrame após todas alterações:')\n",
    "print(\"\")\n",
    "print(paises)"
   ]
  },
  {
   "cell_type": "markdown",
   "metadata": {},
   "source": [
    "#"
   ]
  },
  {
   "cell_type": "markdown",
   "metadata": {},
   "source": [
    "### 3.3 Trabalhando com arquivos."
   ]
  },
  {
   "cell_type": "code",
   "execution_count": 4,
   "metadata": {},
   "outputs": [
    {
     "name": "stdout",
     "output_type": "stream",
     "text": [
      "              nome continente  extensao  corVerde\n",
      "sigla                                            \n",
      "AR       Argentina    América      2780         0\n",
      "BR          Brasil    América      8511         1\n",
      "FR          França     Europa       644         0\n",
      "IT          Itália     Europa       301         1\n",
      "UK     Reino Unido     Europa       244         0\n"
     ]
    }
   ],
   "source": [
    "#P15: Importação de CSV padrão para um DataFrame.\n",
    "import pandas as pd\n",
    "\n",
    "paises = pd.read_csv(r\"C:/Users/Iris/OneDrive - dmie.com.br/Desktop/Pandas/paises.csv\", index_col=\"sigla\")\n",
    "print(paises)"
   ]
  },
  {
   "cell_type": "code",
   "execution_count": 14,
   "metadata": {},
   "outputs": [
    {
     "name": "stdout",
     "output_type": "stream",
     "text": [
      "           nota1  nota2\n",
      "matricula              \n",
      "M0012017     9.8    9.5\n",
      "M0022017     5.3    4.1\n",
      "M0032017     2.5    8.0\n",
      "M0042017     7.5    7.5\n"
     ]
    }
   ],
   "source": [
    "#P16: Importação de CSV sem cabeçalho e com \";\" como separador.\n",
    "import pandas as pd\n",
    "\n",
    "notas = pd.read_csv(r\"C:/Users/Iris/OneDrive - dmie.com.br/Desktop/Pandas/notas.csv\", sep=\";\", names=['matricula', 'nota1', 'nota2'], index_col='matricula')\n",
    "print(notas)"
   ]
  },
  {
   "cell_type": "code",
   "execution_count": 18,
   "metadata": {},
   "outputs": [
    {
     "ename": "TypeError",
     "evalue": "read_csv() got an unexpected keyword argument 'squeeze'",
     "output_type": "error",
     "traceback": [
      "\u001b[1;31m---------------------------------------------------------------------------\u001b[0m",
      "\u001b[1;31mTypeError\u001b[0m                                 Traceback (most recent call last)",
      "Cell \u001b[1;32mIn[18], line 5\u001b[0m\n\u001b[0;32m      2\u001b[0m \u001b[38;5;28;01mimport\u001b[39;00m \u001b[38;5;21;01mpandas\u001b[39;00m \u001b[38;5;28;01mas\u001b[39;00m \u001b[38;5;21;01mpd\u001b[39;00m\n\u001b[0;32m      4\u001b[0m \u001b[38;5;66;03m# Importa o arquivo para uma Series.\u001b[39;00m\n\u001b[1;32m----> 5\u001b[0m serie_gols \u001b[38;5;241m=\u001b[39m \u001b[43mpd\u001b[49m\u001b[38;5;241;43m.\u001b[39;49m\u001b[43mread_csv\u001b[49m\u001b[43m(\u001b[49m\u001b[38;5;124;43mr\u001b[39;49m\u001b[38;5;124;43m\"\u001b[39;49m\u001b[38;5;124;43mC:/Users/Iris/OneDrive - dmie.com.br/Desktop/Pandas/gols.csv\u001b[39;49m\u001b[38;5;124;43m\"\u001b[39;49m\u001b[43m,\u001b[49m\u001b[43m \u001b[49m\u001b[43msep\u001b[49m\u001b[38;5;241;43m=\u001b[39;49m\u001b[38;5;124;43m\"\u001b[39;49m\u001b[38;5;124;43m \u001b[39;49m\u001b[38;5;124;43m\"\u001b[39;49m\u001b[43m,\u001b[49m\u001b[43m \u001b[49m\u001b[43msqueeze\u001b[49m\u001b[38;5;241;43m=\u001b[39;49m\u001b[38;5;28;43;01mTrue\u001b[39;49;00m\u001b[43m,\u001b[49m\u001b[43m \u001b[49m\u001b[43mindex_col\u001b[49m\u001b[38;5;241;43m=\u001b[39;49m\u001b[38;5;241;43m0\u001b[39;49m\u001b[43m)\u001b[49m\n\u001b[0;32m      7\u001b[0m \u001b[38;5;66;03m# Converte o tipo do indice para datetime e imprime a série.\u001b[39;00m\n\u001b[0;32m      8\u001b[0m serie_gols\u001b[38;5;241m.\u001b[39mindex \u001b[38;5;241m=\u001b[39m pd\u001b[38;5;241m.\u001b[39mto_datetime(serie_gols\u001b[38;5;241m.\u001b[39mindex, \u001b[38;5;28mformat\u001b[39m\u001b[38;5;241m=\u001b[39m\u001b[38;5;124m'\u001b[39m\u001b[38;5;132;01m%d\u001b[39;00m\u001b[38;5;124m/\u001b[39m\u001b[38;5;124m%\u001b[39m\u001b[38;5;124mm/\u001b[39m\u001b[38;5;124m%\u001b[39m\u001b[38;5;124mY\u001b[39m\u001b[38;5;124m'\u001b[39m)\n",
      "\u001b[1;31mTypeError\u001b[0m: read_csv() got an unexpected keyword argument 'squeeze'"
     ]
    }
   ],
   "source": [
    "# P17: Importação de arquivo com série temporal.\n",
    "import pandas as pd\n",
    "\n",
    "# Importa o arquivo para uma Series.\n",
    "serie_gols = pd.read_csv(r\"C:/Users/Iris/OneDrive - dmie.com.br/Desktop/Pandas/gols.csv\", sep=\" \", squeeze=True, index_col=0)\n",
    "\n",
    "# Converte o tipo do indice para datetime e imprime a série.\n",
    "serie_gols.index = pd.to_datetime(serie_gols.index, format='%d/%m/%Y')\n",
    "print(serie_gols)"
   ]
  },
  {
   "cell_type": "markdown",
   "metadata": {},
   "source": [
    "### Arquivo Excel"
   ]
  },
  {
   "cell_type": "code",
   "execution_count": 26,
   "metadata": {},
   "outputs": [
    {
     "name": "stdout",
     "output_type": "stream",
     "text": [
      "            capital   região  população\n",
      "0   Belém            Sudeste    1446042\n",
      "1   Belo Horizonte   Sudeste    2513451\n",
      "2   Boa Vista          Norte     326419\n",
      "3   Curitiba             Sul    1893977\n",
      "4   Florianópolis        Sul     477798\n",
      "5   Macapá             Norte     465495\n",
      "6   Manaus             Norte    2094391\n",
      "7   Palmas             Norte     279856\n",
      "8   Porto Alegre         Sul    1481019\n",
      "9   Porto Velho        Norte     511219\n",
      "10  Rio Branco         Norte     377057\n",
      "11  São Paulo        Sudeste   12038175\n",
      "12  Rio de Janeiro   Sudeste    6498837\n",
      "13  Vitória          Sudeste     359555\n"
     ]
    }
   ],
   "source": [
    "#P18: Importação de planilha Excel.\n",
    "import pandas as pd\n",
    "\n",
    "cidades = pd.read_excel(r\"C:/Users/Iris/OneDrive - dmie.com.br/Desktop/Pandas/capitais.xlsx\")\n",
    "print(cidades)"
   ]
  },
  {
   "cell_type": "markdown",
   "metadata": {},
   "source": [
    "### Arquivo JSON"
   ]
  },
  {
   "cell_type": "code",
   "execution_count": 27,
   "metadata": {},
   "outputs": [
    {
     "name": "stdout",
     "output_type": "stream",
     "text": [
      "  matricula       notas\n",
      "0  M0012017  [9.8, 9.5]\n",
      "1  M0022017  [5.3, 4.1]\n",
      "2  M0032017  [2.5, 8.0]\n",
      "3  M0042017  [7.5, 7.5]\n"
     ]
    }
   ],
   "source": [
    "# Importação de planilhas Excel.\n",
    "import pandas as pd\n",
    "import json\n",
    "\n",
    "#(1) - Importa o arquivo JSON para memória.\n",
    "with open(\"C:/Users/Iris/OneDrive - dmie.com.br/Desktop/Pandas/notas.json\") as f:\n",
    "    j_notas = json.load(f)\n",
    "\n",
    "#(2) - Transfere as informações para um DataFrame.\n",
    "notas = pd.DataFrame(j_notas, columns= ['matricula', 'notas'])\n",
    "print(notas)"
   ]
  }
 ],
 "metadata": {
  "kernelspec": {
   "display_name": "Python 3",
   "language": "python",
   "name": "python3"
  },
  "language_info": {
   "codemirror_mode": {
    "name": "ipython",
    "version": 3
   },
   "file_extension": ".py",
   "mimetype": "text/x-python",
   "name": "python",
   "nbconvert_exporter": "python",
   "pygments_lexer": "ipython3",
   "version": "3.12.5"
  }
 },
 "nbformat": 4,
 "nbformat_minor": 2
}
