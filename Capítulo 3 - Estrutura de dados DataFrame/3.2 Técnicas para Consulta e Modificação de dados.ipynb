{
 "cells": [
  {
   "cell_type": "markdown",
   "metadata": {},
   "source": [
    "## Capítulo 3 - A estrutura de dados DataFrame."
   ]
  },
  {
   "cell_type": "markdown",
   "metadata": {},
   "source": [
    "### Busca"
   ]
  },
  {
   "cell_type": "code",
   "execution_count": 30,
   "metadata": {},
   "outputs": [
    {
     "name": "stdout",
     "output_type": "stream",
     "text": [
      "         nome continente  extensao  corVerde\n",
      "AR  Argentina    America      2780         0\n",
      "BR     Brasil    America     85111         1\n",
      "FR     Franca     Europa       644         0\n",
      "IT     Italia     Europa       301         1\n",
      "Existe rotulo 'BR'? -> True\n",
      "Existe rotulo 'US'? -> False\n",
      "------------------------------\n",
      "Existe o rotulo 'corVerde?' ->  True\n",
      "Existe o rotulo 'corAzul?' ->  False\n"
     ]
    }
   ],
   "source": [
    "#P13: Busca em DataFrames.\n",
    "import pandas as pd\n",
    "\n",
    "# Cria o DataFrame.\n",
    "dados = {\n",
    "        'nome': ['Argentina','Brasil','Franca','Italia'],\n",
    "        'continente': ['America','America','Europa','Europa'],\n",
    "        'extensao': [2780, 85111, 644, 301],\n",
    "        'corVerde': [0,1,0,1]\n",
    "        }\n",
    "\n",
    "siglas = ['AR','BR','FR', 'IT']\n",
    "paises = pd.DataFrame(dados, index=siglas)\n",
    "print(paises)\n",
    "\n",
    "# Testa se um dado rótulo de linha existe.\n",
    "tem_BR = 'BR' in paises.index\n",
    "tem_US = 'US' in paises.index\n",
    "print(\"Existe rotulo 'BR'? ->\", tem_BR)\n",
    "print(\"Existe rotulo 'US'? ->\", tem_US)\n",
    "print('------------------------------')\n",
    "\n",
    "# Testa se um dado rótulo de coluna existe.\n",
    "tem_corVerde = 'corVerde' in paises.columns\n",
    "tem_corAzul = 'corAzul' in paises.columns\n",
    "print(\"Existe o rotulo 'corVerde?' -> \", tem_corVerde)\n",
    "print(\"Existe o rotulo 'corAzul?' -> \", tem_corAzul)"
   ]
  },
  {
   "cell_type": "markdown",
   "metadata": {},
   "source": [
    "### Modificação"
   ]
  },
  {
   "cell_type": "code",
   "execution_count": 26,
   "metadata": {},
   "outputs": [
    {
     "name": "stdout",
     "output_type": "stream",
     "text": [
      "           nome continente  extensao  corVerde\n",
      "AR    Argentina    America      2780         0\n",
      "BR       Brasil    America     85111         1\n",
      "FR       Franca     Europa       644         0\n",
      "IT       Italia     Europa       301         1\n",
      "UK  Reino Unido     Europa       244         0\n"
     ]
    }
   ],
   "source": [
    "#P14: Modificação de DataFrame.\n",
    "import pandas as pd\n",
    "\n",
    "# Cria o DataFrame.\n",
    "dados = {\n",
    "        'nome': ['Argentina','Brasil','Franca','Italia','Reino Unido'],\n",
    "        'continente': ['America','America','Europa','Europa','Europa'],\n",
    "        'extensao': [2780, 85111, 644, 301, 244],\n",
    "        'corVerde': [0,1,0,1,0]\n",
    "        }\n",
    "\n",
    "siglas = ['AR','BR','FR', 'IT', 'UK']\n",
    "\n",
    "paises = pd.DataFrame(dados, index=siglas)\n",
    "print(paises)\n"
   ]
  },
  {
   "cell_type": "code",
   "execution_count": 27,
   "metadata": {},
   "outputs": [
    {
     "name": "stdout",
     "output_type": "stream",
     "text": [
      "           nome continente  extensao  corVerde\n",
      "AR    Argentina    America      2780         0\n",
      "BR       Brasil    America     85111         1\n",
      "FR       Franca     Europa       644         0\n",
      "IT       Italia     Europa       301         1\n",
      "UK  Reino Unido     Europa       244         0\n",
      "JP        Japão       Ásia       372         0\n"
     ]
    }
   ],
   "source": [
    "# Insere o país Japão (JP).\n",
    "paises.loc['JP'] = {\n",
    "                    'nome':'Japão',\n",
    "                    'continente': 'Ásia',\n",
    "                    'extensao': 372,\n",
    "                    'corVerde': 0\n",
    "                    }\n",
    "print(paises)"
   ]
  },
  {
   "cell_type": "code",
   "execution_count": 28,
   "metadata": {},
   "outputs": [
    {
     "name": "stdout",
     "output_type": "stream",
     "text": [
      "           nome continente  extensao  corVerde\n",
      "AR    Argentina    America      2780         0\n",
      "BR       Brasil    America      8512         1\n",
      "FR       Franca     Europa       644         0\n",
      "IT       Italia     Europa       301         1\n",
      "UK  Reino Unido     Europa       244         0\n",
      "JP        Japão       Ásia       372         0\n"
     ]
    }
   ],
   "source": [
    "# altera a extensão do Brasil.\n",
    "paises.at['BR','extensao'] = 8512\n",
    "print(paises)"
   ]
  },
  {
   "cell_type": "code",
   "execution_count": 29,
   "metadata": {},
   "outputs": [
    {
     "name": "stdout",
     "output_type": "stream",
     "text": [
      "DataFrame após todas alterações:\n",
      "\n",
      "      nome continente  extensao  corVerde\n",
      "BR  Brasil    America      8512         1\n",
      "FR  Franca     Europa       644         0\n",
      "IT  Italia     Europa       301         1\n",
      "JP   Japão       Ásia       372         0\n"
     ]
    }
   ],
   "source": [
    "# Remove a Argentina e o Reino Unido.\n",
    "paises = paises.drop(['AR','UK'])\n",
    "print('DataFrame após todas alterações:')\n",
    "print(\"\")\n",
    "print(paises)"
   ]
  },
  {
   "cell_type": "markdown",
   "metadata": {},
   "source": [
    "#"
   ]
  },
  {
   "cell_type": "markdown",
   "metadata": {},
   "source": [
    "### 3.3 Trabalhando com arquivos."
   ]
  },
  {
   "cell_type": "code",
   "execution_count": 35,
   "metadata": {},
   "outputs": [
    {
     "name": "stdout",
     "output_type": "stream",
     "text": [
      "              nome continente  extensao  corVerde\n",
      "sigla                                            \n",
      "AR       Argentina    América      2780         0\n",
      "BR          Brasil    América      8511         1\n",
      "FR          França     Europa       644         0\n",
      "IT          Itália     Europa       301         1\n",
      "UK     Reino Unido     Europa       244         0\n"
     ]
    }
   ],
   "source": [
    "#P15: Importação de CSV padrão para um DataFrame.\n",
    "import pandas as pd\n",
    "\n",
    "paises = pd.read_csv(r\"C:/Users/Iris/OneDrive - dmie.com.br/Desktop/Pandas/Capítulo 3 - Estrutura de dados DataFrame/paises.csv\", index_col=\"sigla\")\n",
    "print(paises)"
   ]
  },
  {
   "cell_type": "code",
   "execution_count": null,
   "metadata": {},
   "outputs": [],
   "source": [
    "#P16: Importação de CSV sem cabeçalho e com \";\" como separador.\n",
    "import pandas as pd\n",
    "\n",
    "notas = pd.read_csv(r\"C:/Users/Iris/OneDrive - dmie.com.br/Desktop/Pandas/Capítulo 3 - Estrutura de dados DataFrame/notas.csv\")"
   ]
  }
 ],
 "metadata": {
  "kernelspec": {
   "display_name": "Python 3",
   "language": "python",
   "name": "python3"
  },
  "language_info": {
   "codemirror_mode": {
    "name": "ipython",
    "version": 3
   },
   "file_extension": ".py",
   "mimetype": "text/x-python",
   "name": "python",
   "nbconvert_exporter": "python",
   "pygments_lexer": "ipython3",
   "version": "3.12.5"
  }
 },
 "nbformat": 4,
 "nbformat_minor": 2
}
