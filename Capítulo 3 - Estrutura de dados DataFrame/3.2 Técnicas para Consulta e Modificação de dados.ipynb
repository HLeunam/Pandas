{
 "cells": [
  {
   "cell_type": "markdown",
   "metadata": {},
   "source": [
    "## Capítulo 3 - A estrutura de dados DataFrame."
   ]
  },
  {
   "cell_type": "markdown",
   "metadata": {},
   "source": [
    "### Busca"
   ]
  },
  {
   "cell_type": "code",
   "execution_count": null,
   "metadata": {},
   "outputs": [],
   "source": [
    "#P13: Busca em DataFrames.\n",
    "import pandas as pd\n",
    "\n",
    "# Cria o DataFrame.\n",
    "dados = {\n",
    "        'nome': ['Argentina','Brasil','Franca','Italia'],\n",
    "        'continente': ['America','America','Europa','Europa'],\n",
    "        'extensao': [2780, 85111, 644, 301],\n",
    "        'corVerde': [0,1,0,1]\n",
    "        }\n",
    "\n",
    "siglas = ['AR','BR','FR', 'IT']\n",
    "paises = pd.DataFrame(dados, index=siglas)\n",
    "print(paises)\n",
    "\n",
    "# Testa se um dado rótulo de linha existe.\n",
    "tem_BR = 'BR' in paises.index\n",
    "tem_US = 'US' in paises.index\n",
    "print(\"Existe rotulo 'BR'? ->\", tem_BR)\n",
    "print(\"Existe rotulo 'US'? ->\", tem_US)\n",
    "print('------------------------------')\n",
    "\n",
    "# Testa se um dado rótulo de coluna existe.\n",
    "tem_corVerde = 'corVerde' in paises.columns\n",
    "tem_corAzul = 'corAzul' in paises.columns\n",
    "print(\"Existe o rotulo 'corVerde?' -> \", tem_corVerde)\n",
    "print(\"Existe o rotulo 'corAzul?' -> \", tem_corAzul)"
   ]
  },
  {
   "cell_type": "markdown",
   "metadata": {},
   "source": [
    "### Modificação"
   ]
  },
  {
   "cell_type": "code",
   "execution_count": null,
   "metadata": {},
   "outputs": [],
   "source": [
    "#P14: Modificação de DataFrame.\n",
    "import pandas as pd\n",
    "\n",
    "# Cria o DataFrame.\n",
    "dados = {\n",
    "        'nome': ['Argentina','Brasil','Franca','Italia','Reino Unido'],\n",
    "        'continente': ['America','America','Europa','Europa','Europa'],\n",
    "        'extensao': [2780, 85111, 644, 301, 244],\n",
    "        'corVerde': [0,1,0,1,0]\n",
    "        }\n",
    "\n",
    "siglas = ['AR','BR','FR', 'IT', 'UK']\n",
    "\n",
    "paises = pd.DataFrame(dados, index=siglas)\n",
    "print(paises)\n"
   ]
  },
  {
   "cell_type": "code",
   "execution_count": null,
   "metadata": {},
   "outputs": [],
   "source": [
    "# Insere o país Japão (JP).\n",
    "paises.loc['JP'] = {\n",
    "                    'nome':'Japão',\n",
    "                    'continente': 'Ásia',\n",
    "                    'extensao': 372,\n",
    "                    'corVerde': 0\n",
    "                    }\n",
    "print(paises)"
   ]
  },
  {
   "cell_type": "code",
   "execution_count": null,
   "metadata": {},
   "outputs": [],
   "source": [
    "# altera a extensão do Brasil.\n",
    "paises.at['BR','extensao'] = 8512\n",
    "print(paises)"
   ]
  },
  {
   "cell_type": "code",
   "execution_count": null,
   "metadata": {},
   "outputs": [],
   "source": [
    "# Remove a Argentina e o Reino Unido.\n",
    "paises = paises.drop(['AR','UK'])\n",
    "print('DataFrame após todas alterações:')\n",
    "print(\"\")\n",
    "print(paises)"
   ]
  },
  {
   "cell_type": "markdown",
   "metadata": {},
   "source": [
    "#"
   ]
  },
  {
   "cell_type": "markdown",
   "metadata": {},
   "source": [
    "### 3.3 Trabalhando com arquivos."
   ]
  },
  {
   "cell_type": "code",
   "execution_count": null,
   "metadata": {},
   "outputs": [],
   "source": [
    "#P13: Busca em DataFrames.\n",
    "import pandas as pd\n",
    "\n",
    "# Cria o DataFrame.\n",
    "dados = {\n",
    "        'nome': ['Argentina','Brasil','Franca','Italia'],\n",
    "        'continente': ['America','America','Europa','Europa'],\n",
    "        'extensao': [2780, 85111, 644, 301],\n",
    "        'corVerde': [0,1,0,1]\n",
    "        }\n",
    "\n",
    "siglas = ['AR','BR','FR', 'IT']\n",
    "\n",
    "paises = pd.DataFrame(dados, index=siglas)\n",
    "print(paises)\n",
    "\n",
    "# Testa se um dado rótulo de linha existe.\n",
    "tem_BR = 'BR' in paises.index\n",
    "tem_US = 'US' in paises.index\n",
    "print(\"Existe rotulo 'BR'? ->\", tem_BR)\n",
    "print(\"Existe rotulo 'US'? ->\", tem_US)\n",
    "print('------------------------------')\n",
    "\n",
    "# Testa se um dado rótulo de coluna existe.\n",
    "tem_corVerde = 'corVerde' in paises.columns\n",
    "tem_corAzul = 'corAzul' in paises.columns\n",
    "print(\"Existe o rotulo 'corVerde?' -> \", tem_corVerde)\n",
    "print(\"Existe o rotulo 'corAzul?' -> \", tem_corAzul)\n"
   ]
  },
  {
   "cell_type": "code",
   "execution_count": null,
   "metadata": {},
   "outputs": [],
   "source": [
    "#P15: Importação de CSV padrão para um DataFrame.\n",
    "import pandas as pd\n",
    "\n",
    "paises = pd.read_csv(r\"C:/Users/Iris/OneDrive - dmie.com.br/Desktop/Pandas/paises.csv\", index_col=\"sigla\")\n",
    "print(paises)"
   ]
  },
  {
   "cell_type": "code",
   "execution_count": null,
   "metadata": {},
   "outputs": [],
   "source": [
    "#P16: Importação de CSV sem cabeçalho e com \";\" como separador.\n",
    "import pandas as pd\n",
    "\n",
    "notas = pd.read_csv(r\"C:/Users/Iris/OneDrive - dmie.com.br/Desktop/Pandas/notas.csv\", sep=\";\", names=['matricula', 'nota1', 'nota2'], index_col='matricula')\n",
    "print(notas)"
   ]
  },
  {
   "cell_type": "code",
   "execution_count": null,
   "metadata": {},
   "outputs": [],
   "source": [
    "# P17: Importação de arquivo com série temporal.\n",
    "import pandas as pd\n",
    "\n",
    "# Importa o arquivo para uma Series.\n",
    "serie_gols = pd.read_csv(r\"C:/Users/Iris/OneDrive - dmie.com.br/Desktop/Pandas/gols.csv\", sep=\" \", squeeze=True, index_col=0)\n",
    "\n",
    "# Converte o tipo do indice para datetime e imprime a série.\n",
    "serie_gols.index = pd.to_datetime(serie_gols.index, format='%d/%m/%Y')\n",
    "print(serie_gols)"
   ]
  },
  {
   "cell_type": "markdown",
   "metadata": {},
   "source": [
    "### Arquivo Excel"
   ]
  },
  {
   "cell_type": "code",
   "execution_count": null,
   "metadata": {},
   "outputs": [],
   "source": [
    "#P18: Importação de planilha Excel.\n",
    "import pandas as pd\n",
    "\n",
    "cidades = pd.read_excel(r\"C:/Users/Iris/OneDrive - dmie.com.br/Desktop/Pandas/capitais.xlsx\")\n",
    "print(cidades)"
   ]
  },
  {
   "cell_type": "markdown",
   "metadata": {},
   "source": [
    "### Arquivo JSON"
   ]
  },
  {
   "cell_type": "code",
   "execution_count": null,
   "metadata": {},
   "outputs": [],
   "source": [
    "# Importação de planilhas Excel.\n",
    "import pandas as pd\n",
    "import json\n",
    "\n",
    "#(1) - Importa o arquivo JSON para memória.\n",
    "with open(\"C:/Users/Iris/OneDrive - dmie.com.br/Desktop/Pandas/notas.json\") as f:\n",
    "    j_notas = json.load(f)\n",
    "\n",
    "#(2) - Transfere as informações para um DataFrame.\n",
    "notas = pd.DataFrame(j_notas, columns= ['matricula', 'notas'])\n",
    "print(notas)"
   ]
  }
 ],
 "metadata": {
  "kernelspec": {
   "display_name": "Python 3",
   "language": "python",
   "name": "python3"
  },
  "language_info": {
   "codemirror_mode": {
    "name": "ipython",
    "version": 3
   },
   "file_extension": ".py",
   "mimetype": "text/x-python",
   "name": "python",
   "nbconvert_exporter": "python",
   "pygments_lexer": "ipython3",
   "version": "3.12.5"
  }
 },
 "nbformat": 4,
 "nbformat_minor": 2
}
