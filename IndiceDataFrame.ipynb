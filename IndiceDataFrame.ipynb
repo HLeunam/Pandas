{
 "cells": [
  {
   "cell_type": "code",
   "execution_count": null,
   "metadata": {},
   "outputs": [
    {
     "data": {
      "text/plain": [
       "DatetimeIndex(['2013-01-01', '2013-01-02', '2013-01-03', '2013-01-04',\n",
       "               '2013-01-05', '2013-01-06'],\n",
       "              dtype='datetime64[ns]', freq='D')\n",
       "                   A         B         C         D\n",
       "2013-01-01  0.433726 -1.696287  0.308108  0.333973\n",
       "2013-01-02 -0.920018 -1.659939  0.142339 -0.084018\n",
       "2013-01-03  0.743913  0.484683 -0.905694 -0.129011\n",
       "2013-01-04 -0.314398  2.109931  0.976850 -0.943940\n",
       "2013-01-05  1.301670 -0.913331 -0.112632 -1.103455\n",
       "2013-01-06 -0.321100 -0.728679 -1.471994 -0.367112\n"
      ]
     },
     "metadata": {},
     "output_type": "display_data"
    }
   ],
   "source": [
    "import pandas as pd\n",
    "import numpy as np\n",
    "# Gerar index com datas entre 01/01/2013 até 06/01/2013.\n",
    "\n",
    "dates = pd.date_range(\"20130101\", periods=6)\n",
    "print(dates)\n",
    "# Gerar DataFrame.\n",
    "\n",
    "df = pd.DataFrame(np.random.randn(6,4), index=dates, columns=list(\"ABCD\"))\n",
    "print(df)\n"
   ]
  },
  {
   "cell_type": "code",
   "execution_count": null,
   "metadata": {},
   "outputs": [],
   "source": []
  }
 ],
 "metadata": {
  "language_info": {
   "name": "python"
  }
 },
 "nbformat": 4,
 "nbformat_minor": 2
}
